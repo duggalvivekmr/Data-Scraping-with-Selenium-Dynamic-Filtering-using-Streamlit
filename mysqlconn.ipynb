{
 "cells": [
  {
   "cell_type": "code",
   "execution_count": 20,
   "metadata": {},
   "outputs": [],
   "source": [
    "# importing libraries\n",
    "import pandas as pd\n",
    "import numpy as np\n",
    "import pymysql"
   ]
  },
  {
   "cell_type": "code",
   "execution_count": 4,
   "metadata": {},
   "outputs": [],
   "source": [
    "# Convert CSV  to dataframe\n",
    "df_buses_2=pd.read_csv(r\"D:\\Education\\Data Science\\Project\\Capstone_Projects\\Redbus\\Aassam_bus_details.csv\")\n",
    "df_buses_1=pd.read_csv(r\"D:\\Education\\Data Science\\Project\\Capstone_Projects\\Redbus\\AndhraPradesh_bus_details.csv\")\n",
    "df_buses_3=pd.read_csv(r\"D:\\Education\\Data Science\\Project\\Capstone_Projects\\Redbus\\Bihar_bus_details.csv\")\n",
    "df_buses_4=pd.read_csv(r\"D:\\Education\\Data Science\\Project\\Capstone_Projects\\Redbus\\Chandigarh_bus_details.csv\")\n",
    "df_buses_5=pd.read_csv(r\"D:\\Education\\Data Science\\Project\\Capstone_Projects\\Redbus\\HimachalPradesh_bus_details.csv\")\n",
    "df_buses_6=pd.read_csv(r\"D:\\Education\\Data Science\\Project\\Capstone_Projects\\Redbus\\Kadamba_bus_details.csv\")\n",
    "df_buses_7=pd.read_csv(r\"D:\\Education\\Data Science\\Project\\Capstone_Projects\\Redbus\\Meghalaya_bus_details.csv\")\n",
    "df_buses_8=pd.read_csv(r\"D:\\Education\\Data Science\\Project\\Capstone_Projects\\Redbus\\Kerala_bus_details.csv\")\n",
    "df_buses_9=pd.read_csv(r\"D:\\Education\\Data Science\\Project\\Capstone_Projects\\Redbus\\Punjab_bus_details.csv\")\n",
    "df_buses_10=pd.read_csv(r\"D:\\Education\\Data Science\\Project\\Capstone_Projects\\Redbus\\Rajasthan_bus_details.csv\")\n",
    "df_buses_11=pd.read_csv(r\"D:\\Education\\Data Science\\Project\\Capstone_Projects\\Redbus\\Sikkim_bus_details.csv\")\n",
    "df_buses_12=pd.read_csv(r\"D:\\Education\\Data Science\\Project\\Capstone_Projects\\Redbus\\Telangana_bus_details.csv\")\n",
    "df_buses_13=pd.read_csv(r\"D:\\Education\\Data Science\\Project\\Capstone_Projects\\Redbus\\UttarPradhesh_bus_details.csv\")\n",
    "df_buses_14=pd.read_csv(r\"D:\\Education\\Data Science\\Project\\Capstone_Projects\\Redbus\\WestBengal_bus_details.csv\")\n",
    "\n"
   ]
  },
  {
   "cell_type": "code",
   "execution_count": 5,
   "metadata": {},
   "outputs": [
    {
     "data": {
      "text/html": [
       "<div>\n",
       "<style scoped>\n",
       "    .dataframe tbody tr th:only-of-type {\n",
       "        vertical-align: middle;\n",
       "    }\n",
       "\n",
       "    .dataframe tbody tr th {\n",
       "        vertical-align: top;\n",
       "    }\n",
       "\n",
       "    .dataframe thead th {\n",
       "        text-align: right;\n",
       "    }\n",
       "</style>\n",
       "<table border=\"1\" class=\"dataframe\">\n",
       "  <thead>\n",
       "    <tr style=\"text-align: right;\">\n",
       "      <th></th>\n",
       "      <th>Route_Name</th>\n",
       "      <th>Route_Link</th>\n",
       "      <th>Bus_Name</th>\n",
       "      <th>Bus_Type</th>\n",
       "      <th>Departing_Time</th>\n",
       "      <th>Duration</th>\n",
       "      <th>Reaching_Time</th>\n",
       "      <th>Star_Rating</th>\n",
       "      <th>Price</th>\n",
       "      <th>Seat_Availability</th>\n",
       "    </tr>\n",
       "  </thead>\n",
       "  <tbody>\n",
       "    <tr>\n",
       "      <th>0</th>\n",
       "      <td>Hyderabad to Vijayawada</td>\n",
       "      <td>https://www.redbus.in/bus-tickets/hyderabad-to...</td>\n",
       "      <td>APSRTC - 3962</td>\n",
       "      <td>INDRA(A.C. Seater)</td>\n",
       "      <td>20:40</td>\n",
       "      <td>07h 35m</td>\n",
       "      <td>04:15</td>\n",
       "      <td>3.7</td>\n",
       "      <td>INR 528</td>\n",
       "      <td>33 Seats available</td>\n",
       "    </tr>\n",
       "    <tr>\n",
       "      <th>1</th>\n",
       "      <td>Hyderabad to Vijayawada</td>\n",
       "      <td>https://www.redbus.in/bus-tickets/hyderabad-to...</td>\n",
       "      <td>APSRTC - 4900</td>\n",
       "      <td>SUPER LUXURY (NON-AC, 2 + 2 PUSH BACK)</td>\n",
       "      <td>20:40</td>\n",
       "      <td>08h 00m</td>\n",
       "      <td>04:40</td>\n",
       "      <td>3.6</td>\n",
       "      <td>INR 436</td>\n",
       "      <td>23 Seats available</td>\n",
       "    </tr>\n",
       "    <tr>\n",
       "      <th>2</th>\n",
       "      <td>Hyderabad to Vijayawada</td>\n",
       "      <td>https://www.redbus.in/bus-tickets/hyderabad-to...</td>\n",
       "      <td>APSRTC - 95703</td>\n",
       "      <td>SUPER LUXURY (NON-AC, 2 + 2 PUSH BACK)</td>\n",
       "      <td>20:45</td>\n",
       "      <td>06h 45m</td>\n",
       "      <td>03:30</td>\n",
       "      <td>3.3</td>\n",
       "      <td>INR 452</td>\n",
       "      <td>18 Seats available</td>\n",
       "    </tr>\n",
       "    <tr>\n",
       "      <th>3</th>\n",
       "      <td>Hyderabad to Vijayawada</td>\n",
       "      <td>https://www.redbus.in/bus-tickets/hyderabad-to...</td>\n",
       "      <td>APSRTC - 3697</td>\n",
       "      <td>STAR LINER(NON-AC SLEEPER 2+1)</td>\n",
       "      <td>20:45</td>\n",
       "      <td>07h 00m</td>\n",
       "      <td>03:45</td>\n",
       "      <td>3.9</td>\n",
       "      <td>INR 607</td>\n",
       "      <td>11 Seats available</td>\n",
       "    </tr>\n",
       "    <tr>\n",
       "      <th>4</th>\n",
       "      <td>Hyderabad to Vijayawada</td>\n",
       "      <td>https://www.redbus.in/bus-tickets/hyderabad-to...</td>\n",
       "      <td>APSRTC - 35212</td>\n",
       "      <td>STAR LINER(NON-AC SLEEPER 2+1)</td>\n",
       "      <td>20:45</td>\n",
       "      <td>07h 00m</td>\n",
       "      <td>03:45</td>\n",
       "      <td>3.9</td>\n",
       "      <td>INR 565</td>\n",
       "      <td>11 Seats available</td>\n",
       "    </tr>\n",
       "    <tr>\n",
       "      <th>...</th>\n",
       "      <td>...</td>\n",
       "      <td>...</td>\n",
       "      <td>...</td>\n",
       "      <td>...</td>\n",
       "      <td>...</td>\n",
       "      <td>...</td>\n",
       "      <td>...</td>\n",
       "      <td>...</td>\n",
       "      <td>...</td>\n",
       "      <td>...</td>\n",
       "    </tr>\n",
       "    <tr>\n",
       "      <th>11092</th>\n",
       "      <td>Habra to Heria</td>\n",
       "      <td>https://www.redbus.in/bus-tickets/habra-to-heria</td>\n",
       "      <td>WBTC (CTC) HABRA-DIGHA via Bally - 26|05:35</td>\n",
       "      <td>Non AC Seater (2+3)</td>\n",
       "      <td>05:35</td>\n",
       "      <td>03h 20m</td>\n",
       "      <td>08:55</td>\n",
       "      <td>4.7</td>\n",
       "      <td>INR 130</td>\n",
       "      <td>43 Seats available</td>\n",
       "    </tr>\n",
       "    <tr>\n",
       "      <th>11093</th>\n",
       "      <td>Habra to Heria</td>\n",
       "      <td>https://www.redbus.in/bus-tickets/habra-to-heria</td>\n",
       "      <td>WBTC (CTC) HABRA-DIGHA via Bally - 26|06:55</td>\n",
       "      <td>Non AC Seater (2+3)</td>\n",
       "      <td>06:55</td>\n",
       "      <td>03h 50m</td>\n",
       "      <td>10:45</td>\n",
       "      <td>4.2</td>\n",
       "      <td>INR 130</td>\n",
       "      <td>45 Seats available</td>\n",
       "    </tr>\n",
       "    <tr>\n",
       "      <th>11094</th>\n",
       "      <td>Habra to Heria</td>\n",
       "      <td>https://www.redbus.in/bus-tickets/habra-to-heria</td>\n",
       "      <td>WBTC (CTC) HABRA-DIGHA via Bally - 26|12:45</td>\n",
       "      <td>Non AC Seater (2+3)</td>\n",
       "      <td>12:45</td>\n",
       "      <td>03h 55m</td>\n",
       "      <td>16:40</td>\n",
       "      <td>4.2</td>\n",
       "      <td>INR 130</td>\n",
       "      <td>46 Seats available</td>\n",
       "    </tr>\n",
       "    <tr>\n",
       "      <th>11095</th>\n",
       "      <td>Midnapore to Kolkata Airport</td>\n",
       "      <td>https://www.redbus.in/bus-tickets/midnapore-to...</td>\n",
       "      <td>WBTC (CTC) Habra-Midnapur - 194|15:40</td>\n",
       "      <td>Non AC Seater (2+3)</td>\n",
       "      <td>15:40</td>\n",
       "      <td>03h 00m</td>\n",
       "      <td>18:40</td>\n",
       "      <td>3.8</td>\n",
       "      <td>INR 111</td>\n",
       "      <td>35 Seats available</td>\n",
       "    </tr>\n",
       "    <tr>\n",
       "      <th>11096</th>\n",
       "      <td>Midnapore to Kolkata Airport</td>\n",
       "      <td>https://www.redbus.in/bus-tickets/midnapore-to...</td>\n",
       "      <td>WBTC (CTC) Barasat-Midnapur - 208|17:00</td>\n",
       "      <td>Non AC Seater (2+3)</td>\n",
       "      <td>17:00</td>\n",
       "      <td>02h 00m</td>\n",
       "      <td>19:00</td>\n",
       "      <td>4.0</td>\n",
       "      <td>INR 111</td>\n",
       "      <td>37 Seats available</td>\n",
       "    </tr>\n",
       "  </tbody>\n",
       "</table>\n",
       "<p>11097 rows × 10 columns</p>\n",
       "</div>"
      ],
      "text/plain": [
       "                         Route_Name  \\\n",
       "0           Hyderabad to Vijayawada   \n",
       "1           Hyderabad to Vijayawada   \n",
       "2           Hyderabad to Vijayawada   \n",
       "3           Hyderabad to Vijayawada   \n",
       "4           Hyderabad to Vijayawada   \n",
       "...                             ...   \n",
       "11092                Habra to Heria   \n",
       "11093                Habra to Heria   \n",
       "11094                Habra to Heria   \n",
       "11095  Midnapore to Kolkata Airport   \n",
       "11096  Midnapore to Kolkata Airport   \n",
       "\n",
       "                                              Route_Link  \\\n",
       "0      https://www.redbus.in/bus-tickets/hyderabad-to...   \n",
       "1      https://www.redbus.in/bus-tickets/hyderabad-to...   \n",
       "2      https://www.redbus.in/bus-tickets/hyderabad-to...   \n",
       "3      https://www.redbus.in/bus-tickets/hyderabad-to...   \n",
       "4      https://www.redbus.in/bus-tickets/hyderabad-to...   \n",
       "...                                                  ...   \n",
       "11092   https://www.redbus.in/bus-tickets/habra-to-heria   \n",
       "11093   https://www.redbus.in/bus-tickets/habra-to-heria   \n",
       "11094   https://www.redbus.in/bus-tickets/habra-to-heria   \n",
       "11095  https://www.redbus.in/bus-tickets/midnapore-to...   \n",
       "11096  https://www.redbus.in/bus-tickets/midnapore-to...   \n",
       "\n",
       "                                          Bus_Name  \\\n",
       "0                                    APSRTC - 3962   \n",
       "1                                    APSRTC - 4900   \n",
       "2                                   APSRTC - 95703   \n",
       "3                                    APSRTC - 3697   \n",
       "4                                   APSRTC - 35212   \n",
       "...                                            ...   \n",
       "11092  WBTC (CTC) HABRA-DIGHA via Bally - 26|05:35   \n",
       "11093  WBTC (CTC) HABRA-DIGHA via Bally - 26|06:55   \n",
       "11094  WBTC (CTC) HABRA-DIGHA via Bally - 26|12:45   \n",
       "11095        WBTC (CTC) Habra-Midnapur - 194|15:40   \n",
       "11096      WBTC (CTC) Barasat-Midnapur - 208|17:00   \n",
       "\n",
       "                                     Bus_Type Departing_Time Duration  \\\n",
       "0                          INDRA(A.C. Seater)          20:40  07h 35m   \n",
       "1      SUPER LUXURY (NON-AC, 2 + 2 PUSH BACK)          20:40  08h 00m   \n",
       "2      SUPER LUXURY (NON-AC, 2 + 2 PUSH BACK)          20:45  06h 45m   \n",
       "3              STAR LINER(NON-AC SLEEPER 2+1)          20:45  07h 00m   \n",
       "4              STAR LINER(NON-AC SLEEPER 2+1)          20:45  07h 00m   \n",
       "...                                       ...            ...      ...   \n",
       "11092                     Non AC Seater (2+3)          05:35  03h 20m   \n",
       "11093                     Non AC Seater (2+3)          06:55  03h 50m   \n",
       "11094                     Non AC Seater (2+3)          12:45  03h 55m   \n",
       "11095                     Non AC Seater (2+3)          15:40  03h 00m   \n",
       "11096                     Non AC Seater (2+3)          17:00  02h 00m   \n",
       "\n",
       "      Reaching_Time  Star_Rating    Price   Seat_Availability  \n",
       "0             04:15          3.7  INR 528  33 Seats available  \n",
       "1             04:40          3.6  INR 436  23 Seats available  \n",
       "2             03:30          3.3  INR 452  18 Seats available  \n",
       "3             03:45          3.9  INR 607  11 Seats available  \n",
       "4             03:45          3.9  INR 565  11 Seats available  \n",
       "...             ...          ...      ...                 ...  \n",
       "11092         08:55          4.7  INR 130  43 Seats available  \n",
       "11093         10:45          4.2  INR 130  45 Seats available  \n",
       "11094         16:40          4.2  INR 130  46 Seats available  \n",
       "11095         18:40          3.8  INR 111  35 Seats available  \n",
       "11096         19:00          4.0  INR 111  37 Seats available  \n",
       "\n",
       "[11097 rows x 10 columns]"
      ]
     },
     "execution_count": 5,
     "metadata": {},
     "output_type": "execute_result"
    }
   ],
   "source": [
    "Final_df=pd.concat([df_buses_1,df_buses_2,df_buses_3,df_buses_4,df_buses_5,df_buses_6,df_buses_7,df_buses_8,df_buses_9,df_buses_10,df_buses_11,df_buses_12,df_buses_13,df_buses_14],ignore_index=True)\n",
    "Final_df"
   ]
  },
  {
   "cell_type": "code",
   "execution_count": 6,
   "metadata": {},
   "outputs": [
    {
     "name": "stdout",
     "output_type": "stream",
     "text": [
      "<class 'pandas.core.frame.DataFrame'>\n",
      "RangeIndex: 11097 entries, 0 to 11096\n",
      "Data columns (total 10 columns):\n",
      " #   Column             Non-Null Count  Dtype  \n",
      "---  ------             --------------  -----  \n",
      " 0   Route_Name         11097 non-null  object \n",
      " 1   Route_Link         11097 non-null  object \n",
      " 2   Bus_Name           10947 non-null  object \n",
      " 3   Bus_Type           10942 non-null  object \n",
      " 4   Departing_Time     10947 non-null  object \n",
      " 5   Duration           10947 non-null  object \n",
      " 6   Reaching_Time      10947 non-null  object \n",
      " 7   Star_Rating        10947 non-null  float64\n",
      " 8   Price              10947 non-null  object \n",
      " 9   Seat_Availability  10945 non-null  object \n",
      "dtypes: float64(1), object(9)\n",
      "memory usage: 867.1+ KB\n"
     ]
    }
   ],
   "source": [
    "# data about the data\n",
    "Final_df.info()"
   ]
  },
  {
   "cell_type": "markdown",
   "metadata": {},
   "source": [
    "Data Cleaning"
   ]
  },
  {
   "cell_type": "code",
   "execution_count": 7,
   "metadata": {},
   "outputs": [
    {
     "data": {
      "text/plain": [
       "0        528.0\n",
       "1        436.0\n",
       "2        452.0\n",
       "3        607.0\n",
       "4        565.0\n",
       "         ...  \n",
       "11092    130.0\n",
       "11093    130.0\n",
       "11094    130.0\n",
       "11095    111.0\n",
       "11096    111.0\n",
       "Name: Price, Length: 11097, dtype: float64"
      ]
     },
     "execution_count": 7,
     "metadata": {},
     "output_type": "execute_result"
    }
   ],
   "source": [
    "# Convert Prices to Numeric\n",
    "Final_df[\"Price\"]=Final_df[\"Price\"].str.replace(\"INR\",\"\")\n",
    "Final_df[\"Price\"]=Final_df[\"Price\"].astype(float)\n",
    "Final_df[\"Price\"].fillna(0)"
   ]
  },
  {
   "cell_type": "code",
   "execution_count": 8,
   "metadata": {},
   "outputs": [
    {
     "data": {
      "text/plain": [
       "0        33.0\n",
       "1        23.0\n",
       "2        18.0\n",
       "3        11.0\n",
       "4        11.0\n",
       "         ... \n",
       "11092    43.0\n",
       "11093    45.0\n",
       "11094    46.0\n",
       "11095    35.0\n",
       "11096    37.0\n",
       "Name: Seat_Availability, Length: 11097, dtype: float64"
      ]
     },
     "execution_count": 8,
     "metadata": {},
     "output_type": "execute_result"
    }
   ],
   "source": [
    "# Convert Prices to Numeric\n",
    "Final_df[\"Seat_Availability\"]=Final_df[\"Seat_Availability\"].str.replace(\"Seats available\",\"\")\n",
    "Final_df[\"Seat_Availability\"]=Final_df[\"Seat_Availability\"].str.replace(\"Seat available\",\"\")\n",
    "Final_df[\"Seat_Availability\"]=Final_df[\"Seat_Availability\"].astype(float)\n",
    "Final_df[\"Seat_Availability\"].fillna(0)"
   ]
  },
  {
   "cell_type": "code",
   "execution_count": 9,
   "metadata": {},
   "outputs": [
    {
     "name": "stderr",
     "output_type": "stream",
     "text": [
      "C:\\Users\\VIVEK - PC\\AppData\\Local\\Temp\\ipykernel_26904\\259703826.py:2: FutureWarning: A value is trying to be set on a copy of a DataFrame or Series through chained assignment using an inplace method.\n",
      "The behavior will change in pandas 3.0. This inplace method will never work because the intermediate object on which we are setting values always behaves as a copy.\n",
      "\n",
      "For example, when doing 'df[col].method(value, inplace=True)', try using 'df.method({col: value}, inplace=True)' or df[col] = df[col].method(value) instead, to perform the operation inplace on the original object.\n",
      "\n",
      "\n",
      "  Final_df[\"Star_Rating\"].fillna(0,inplace=True)\n"
     ]
    }
   ],
   "source": [
    "# Fill blank cells of Star_Rating \n",
    "Final_df[\"Star_Rating\"].fillna(0,inplace=True)"
   ]
  },
  {
   "cell_type": "code",
   "execution_count": 10,
   "metadata": {},
   "outputs": [
    {
     "name": "stdout",
     "output_type": "stream",
     "text": [
      "<class 'pandas.core.frame.DataFrame'>\n",
      "RangeIndex: 11097 entries, 0 to 11096\n",
      "Data columns (total 10 columns):\n",
      " #   Column             Non-Null Count  Dtype  \n",
      "---  ------             --------------  -----  \n",
      " 0   Route_Name         11097 non-null  object \n",
      " 1   Route_Link         11097 non-null  object \n",
      " 2   Bus_Name           10947 non-null  object \n",
      " 3   Bus_Type           10942 non-null  object \n",
      " 4   Departing_Time     10947 non-null  object \n",
      " 5   Duration           10947 non-null  object \n",
      " 6   Reaching_Time      10947 non-null  object \n",
      " 7   Star_Rating        11097 non-null  float64\n",
      " 8   Price              10947 non-null  float64\n",
      " 9   Seat_Availability  10945 non-null  float64\n",
      "dtypes: float64(3), object(7)\n",
      "memory usage: 867.1+ KB\n"
     ]
    }
   ],
   "source": [
    "# info after the data type change\n",
    "Final_df.info()"
   ]
  },
  {
   "cell_type": "code",
   "execution_count": 11,
   "metadata": {},
   "outputs": [],
   "source": [
    "Final_df = Final_df[Final_df[\"Price\"] <= 7000]"
   ]
  },
  {
   "cell_type": "code",
   "execution_count": 12,
   "metadata": {},
   "outputs": [
    {
     "name": "stderr",
     "output_type": "stream",
     "text": [
      "C:\\Users\\VIVEK - PC\\AppData\\Local\\Temp\\ipykernel_26904\\4065964196.py:2: FutureWarning: A value is trying to be set on a copy of a DataFrame or Series through chained assignment using an inplace method.\n",
      "The behavior will change in pandas 3.0. This inplace method will never work because the intermediate object on which we are setting values always behaves as a copy.\n",
      "\n",
      "For example, when doing 'df[col].method(value, inplace=True)', try using 'df.method({col: value}, inplace=True)' or df[col] = df[col].method(value) instead, to perform the operation inplace on the original object.\n",
      "\n",
      "\n",
      "  Final_df[\"Bus_Name\"].fillna(0,inplace=True)\n",
      "C:\\Users\\VIVEK - PC\\AppData\\Local\\Temp\\ipykernel_26904\\4065964196.py:2: SettingWithCopyWarning: \n",
      "A value is trying to be set on a copy of a slice from a DataFrame\n",
      "\n",
      "See the caveats in the documentation: https://pandas.pydata.org/pandas-docs/stable/user_guide/indexing.html#returning-a-view-versus-a-copy\n",
      "  Final_df[\"Bus_Name\"].fillna(0,inplace=True)\n"
     ]
    }
   ],
   "source": [
    "# Fill balnk cells in Bus Name\n",
    "Final_df[\"Bus_Name\"].fillna(0,inplace=True) "
   ]
  },
  {
   "cell_type": "code",
   "execution_count": 13,
   "metadata": {},
   "outputs": [
    {
     "name": "stderr",
     "output_type": "stream",
     "text": [
      "C:\\Users\\VIVEK - PC\\AppData\\Local\\Temp\\ipykernel_26904\\2387038014.py:2: FutureWarning: A value is trying to be set on a copy of a DataFrame or Series through chained assignment using an inplace method.\n",
      "The behavior will change in pandas 3.0. This inplace method will never work because the intermediate object on which we are setting values always behaves as a copy.\n",
      "\n",
      "For example, when doing 'df[col].method(value, inplace=True)', try using 'df.method({col: value}, inplace=True)' or df[col] = df[col].method(value) instead, to perform the operation inplace on the original object.\n",
      "\n",
      "\n",
      "  Final_df[\"Bus_Type\"].fillna(\"Not Available\",inplace=True)\n",
      "C:\\Users\\VIVEK - PC\\AppData\\Local\\Temp\\ipykernel_26904\\2387038014.py:2: SettingWithCopyWarning: \n",
      "A value is trying to be set on a copy of a slice from a DataFrame\n",
      "\n",
      "See the caveats in the documentation: https://pandas.pydata.org/pandas-docs/stable/user_guide/indexing.html#returning-a-view-versus-a-copy\n",
      "  Final_df[\"Bus_Type\"].fillna(\"Not Available\",inplace=True)\n"
     ]
    }
   ],
   "source": [
    "# Fill balnk cells in Bus Type\n",
    "Final_df[\"Bus_Type\"].fillna(\"Not Available\",inplace=True) "
   ]
  },
  {
   "cell_type": "code",
   "execution_count": 15,
   "metadata": {},
   "outputs": [],
   "source": [
    "# Change the dataframe to csv\n",
    "path=r\"D:\\Education\\Data Science\\Project\\Capstone_Projects\\Redbus\\Final_busdetails_df_vd.csv\"\n",
    "Final_df.to_csv(path,index=False)"
   ]
  },
  {
   "cell_type": "code",
   "execution_count": 16,
   "metadata": {},
   "outputs": [],
   "source": [
    "# replacing the nan value\n",
    "Final_df = Final_df.replace({np.nan: None})"
   ]
  },
  {
   "cell_type": "code",
   "execution_count": 30,
   "metadata": {},
   "outputs": [
    {
     "data": {
      "text/plain": [
       "1"
      ]
     },
     "execution_count": 30,
     "metadata": {},
     "output_type": "execute_result"
    }
   ],
   "source": [
    "# SQL Connection\n",
    "conn=pymysql.connect(host=\"localhost\", user=\"root\", password=\"Vkmd@rhn\", database=\"redbus\")\n",
    "my_cursor = conn.cursor()\n",
    "my_cursor.execute(\"CREATE DATABASE IF NOT EXISTS REDBUS\")"
   ]
  },
  {
   "cell_type": "code",
   "execution_count": 31,
   "metadata": {},
   "outputs": [
    {
     "name": "stdout",
     "output_type": "stream",
     "text": [
      "Table Created Successfully\n"
     ]
    }
   ],
   "source": [
    "# Table Creation\n",
    "my_cursor.execute('''CREATE TABLE IF NOT EXISTS busroutes_details(\n",
    "                    ID INT AUTO_INCREMENT PRIMARY KEY, \n",
    "                    Route_Name VARCHAR (255) NULL,\n",
    "                    Route_Link VARCHAR (255) NULL,\n",
    "                    Bus_Name VARCHAR (255) NULL,\n",
    "                    Bus_Type VARCHAR (255) NULL,\n",
    "                    Departing_Time TIME NULL,\n",
    "                    Duration VARCHAR (255) NULL,\n",
    "                    Reaching_Time TIME NULL,\n",
    "                    Star_Rating FLOAT NULL,\n",
    "                    Price DECIMAL(10),\n",
    "                    Seat_Availability INT(10)\n",
    "                    )''')\n",
    "print(\"Table Created Successfully\")\n"
   ]
  },
  {
   "cell_type": "code",
   "execution_count": 32,
   "metadata": {},
   "outputs": [
    {
     "name": "stdout",
     "output_type": "stream",
     "text": [
      "values inserted successfully\n"
     ]
    }
   ],
   "source": [
    "# SQL Query to insert data into busroutes_details table\n",
    "insert_query = '''INSERT INTO busroutes_details(\n",
    "                    Route_Name,\n",
    "                    Route_Link,\n",
    "                    Bus_Name,\n",
    "                    Bus_Type,\n",
    "                    Departing_Time,\n",
    "                    Duration,\n",
    "                    Reaching_Time,\n",
    "                    Star_Rating,\n",
    "                    Price,\n",
    "                    Seat_Availability)\n",
    "                VALUES(%s, %s, %s, %s, %s, %s, %s, %s, %s, %s)'''\n",
    "data = Final_df.values.tolist()\n",
    "my_cursor.executemany(insert_query, data)\n",
    "conn.commit()\n",
    "\n",
    "print(\"values inserted successfully\")"
   ]
  }
 ],
 "metadata": {
  "kernelspec": {
   "display_name": "env",
   "language": "python",
   "name": "python3"
  },
  "language_info": {
   "codemirror_mode": {
    "name": "ipython",
    "version": 3
   },
   "file_extension": ".py",
   "mimetype": "text/x-python",
   "name": "python",
   "nbconvert_exporter": "python",
   "pygments_lexer": "ipython3",
   "version": "3.12.4"
  }
 },
 "nbformat": 4,
 "nbformat_minor": 2
}
